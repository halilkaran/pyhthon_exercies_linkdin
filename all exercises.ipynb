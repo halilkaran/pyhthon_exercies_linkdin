{
 "cells": [
  {
   "cell_type": "markdown",
   "metadata": {},
   "source": [
    "find prime factors\n"
   ]
  },
  {
   "cell_type": "code",
   "execution_count": 4,
   "metadata": {},
   "outputs": [
    {
     "data": {
      "text/plain": [
       "[2, 3, 3, 5, 7]"
      ]
     },
     "execution_count": 4,
     "metadata": {},
     "output_type": "execute_result"
    }
   ],
   "source": [
    "def prime_fac(number):\n",
    "    list_1 = []\n",
    "    teiler = 2\n",
    "    while teiler <= number:\n",
    "        if (number % teiler) == 0:\n",
    "            list_1.append(teiler)\n",
    "            number = number / teiler\n",
    "        else:\n",
    "            teiler += 1\n",
    "    return list_1\n",
    "\n",
    "\n",
    "prime_fac(630)\n"
   ]
  },
  {
   "cell_type": "markdown",
   "metadata": {},
   "source": [
    "identify a palindrome\n"
   ]
  },
  {
   "cell_type": "code",
   "execution_count": 28,
   "metadata": {},
   "outputs": [
    {
     "data": {
      "text/plain": [
       "True"
      ]
     },
     "execution_count": 28,
     "metadata": {},
     "output_type": "execute_result"
    }
   ],
   "source": [
    "import re\n",
    "\n",
    "\n",
    "def palindrome(string1):\n",
    "    gerade = \"\".join(re.findall(r\"[a-z]+\", string1.lower()))\n",
    "    umkehren = gerade[::-1]\n",
    "    return umkehren == gerade\n",
    "\n",
    "\n",
    "palindrome(\"race car\")\n"
   ]
  },
  {
   "cell_type": "markdown",
   "metadata": {},
   "source": [
    "Sort a String\n"
   ]
  },
  {
   "cell_type": "code",
   "execution_count": 41,
   "metadata": {},
   "outputs": [
    {
     "data": {
      "text/plain": [
       "'apple banana Orange pira'"
      ]
     },
     "execution_count": 41,
     "metadata": {},
     "output_type": "execute_result"
    }
   ],
   "source": [
    "def sorting(input):\n",
    "    text_list = input.split()\n",
    "    text_list = [i.lower() + i for i in text_list]\n",
    "    text_list.sort()\n",
    "    text_list = [i[len(i) // 2 :] for i in text_list]\n",
    "    return \" \".join(text_list)\n",
    "\n",
    "\n",
    "sorting(\"banana apple Orange pira\")\n"
   ]
  },
  {
   "cell_type": "markdown",
   "metadata": {},
   "source": [
    "list\n"
   ]
  },
  {
   "cell_type": "markdown",
   "metadata": {},
   "source": [
    "find all list items\n",
    "\n",
    "beispiel = [ [ [1, 2, 3], 2, [1, 3] ], [1, 2, 3] ]\n",
    "\n",
    "index_all(beispiel,2)\n"
   ]
  },
  {
   "cell_type": "markdown",
   "metadata": {},
   "source": [
    "[[0, 0, 1 ], [0, 1] , [1, 1]]\n"
   ]
  },
  {
   "cell_type": "code",
   "execution_count": 43,
   "metadata": {},
   "outputs": [
    {
     "data": {
      "text/plain": [
       "[[0, 0, 1], [0, 1], [1, 1]]"
      ]
     },
     "execution_count": 43,
     "metadata": {},
     "output_type": "execute_result"
    }
   ],
   "source": [
    "def index_alle(list1,Gesuchter):\n",
    "    new_list=[]\n",
    "    for i in range(len(list1)):\n",
    "        if list1[i] == Gesuchter:\n",
    "            new_list.append([i])\n",
    "        elif isinstance(list1[i],list):                             ### (instance() ) Return whether an object is an instance of a class or of a subclass thereof.\n",
    "            for index in index_alle(list1[i],Gesuchter):        ######A tuple, as in isinstance(x, (A, B, ...)), may be given as the target to check against.This is equivalent to isinstance(x, A) or isinstance(x, B) or ... etc.\n",
    "                new_list.append([i]+index)\n",
    "    return new_list                                                                     \n",
    "\n",
    "\n",
    "beispiel = [ [ [1, 2, 3], 2, [1, 3] ], [1, 2, 3] ]\n",
    "index_alle(beispiel,2)"
   ]
  },
  {
   "cell_type": "markdown",
   "metadata": {},
   "source": [
    "\n",
    "\n",
    "\n",
    "play the waiting game\n",
    "\n",
    "your target time is 4 seconds\n",
    "\n",
    "-------pres enter to begin------------------------\n",
    "\n",
    "press enter again after 4 seconds\n",
    "\n",
    "elapsed tiime 3.213 seconds\n",
    "\n",
    "(0.213 seconds too slow)"
   ]
  },
  {
   "cell_type": "code",
   "execution_count": 51,
   "metadata": {},
   "outputs": [
    {
     "name": "stdout",
     "output_type": "stream",
     "text": [
      " ihre ziel time ist 3 sekunde\n",
      " endzeit ist 1.910 sekunde \n",
      "1.090 sekunde schnell\n"
     ]
    }
   ],
   "source": [
    "import time \n",
    "import random\n",
    "\n",
    "\n",
    "def warte_spiel():\n",
    "    ziel = random.randint(2,4)\n",
    "    print(\" ihre ziel time ist {} sekunde\".format(ziel))\n",
    "    \n",
    "    input(\"-----drucken Sie bitte Enter\")\n",
    "    Anfangzeit =time.perf_counter()                                                         ## startzeit\n",
    "    input(\"drucken sie bitte wieder {} sekunde später\".format(ziel))\n",
    "    endzeit = time.perf_counter() - Anfangzeit\n",
    "\n",
    "\n",
    "    print (\" endzeit ist {0:.3f} sekunde \".format(endzeit))\n",
    "    if endzeit == ziel:\n",
    "        print( \"wundebar! perfect Timing\")\n",
    "    elif endzeit < ziel:\n",
    "        print( \"{0:.3f} sekunde schnell\".format(ziel - endzeit))\n",
    "    else:\n",
    "        print( \"{0:.3f} sekunde langsam\".format(endzeit - ziel))\n",
    "\n",
    "warte_spiel()\n",
    "\n",
    "\n"
   ]
  },
  {
   "cell_type": "markdown",
   "metadata": {},
   "source": [
    "save Dictionary\n"
   ]
  },
  {
   "cell_type": "code",
   "execution_count": 52,
   "metadata": {},
   "outputs": [],
   "source": [
    "import pickle \n",
    "def speichern_dict(dictionary1, filepath):\n",
    "    with open(filepath,\"wb\")as file:\n",
    "        pickle.dump(dictionary1, file)\n",
    "def load_dict(filepath):\n",
    "    with open(filepath,\"rb\") as file:\n",
    "        return pickle.load(file)"
   ]
  },
  {
   "cell_type": "code",
   "execution_count": 57,
   "metadata": {},
   "outputs": [
    {
     "data": {
      "text/plain": [
       "{'a': 1, 'b': 2, 'c': 3}"
      ]
     },
     "execution_count": 57,
     "metadata": {},
     "output_type": "execute_result"
    }
   ],
   "source": [
    "dict1 = { \"a\":1, \"b\":2, \"c\":3 }\n",
    "speichern_dict(dict1, \"Desktop\")\n",
    "load_dict(\"Desktop\")"
   ]
  },
  {
   "cell_type": "markdown",
   "metadata": {},
   "source": [
    "set Alarm\n",
    "\n",
    "input alarm time, soud file , message eingegeben \n",
    "\n"
   ]
  },
  {
   "cell_type": "code",
   "execution_count": 63,
   "metadata": {},
   "outputs": [
    {
     "name": "stdout",
     "output_type": "stream",
     "text": [
      "Alarm set for Sat Dec 25 12:30:19 2021\n",
      "Wake up!\n"
     ]
    }
   ],
   "source": [
    "import sched\n",
    "import time\n",
    "import winsound as ws\n",
    "\n",
    "def set_alarm(alarm_time, sound_file, message):\n",
    "    s = sched.scheduler(time.time, time.sleep)\n",
    "    s.enterabs(alarm_time, 1, print, argument=(message,))\n",
    "    s.enterabs(alarm_time, 1, ws.PlaySound, argument=(sound_file, ws.SND_FILENAME))\n",
    "    print('Alarm set for', time.asctime(time.localtime(alarm_time)))\n",
    "    s.run()\n",
    "\n",
    "\n",
    "set_alarm(time.time()+1, 'alarm.wav', 'Wake up!')"
   ]
  },
  {
   "cell_type": "markdown",
   "metadata": {},
   "source": [
    "SEND AN EMAIL\n",
    "  \n",
    "\n",
    "receiver email\n",
    "\n",
    "adress\n",
    "\n",
    "subject line\n",
    "\n",
    "mesasage body"
   ]
  },
  {
   "cell_type": "code",
   "execution_count": null,
   "metadata": {},
   "outputs": [],
   "source": [
    "import smtplib                 #### class smtplib.SMTP(host='', port=0, local_hostname=None, [timeout, ]source_address=None)\n",
    "\n",
    "ABSENDER_EMAIL = 'YOUR MAIL ADRESSE'            \n",
    "ABSENDER_PASSWORD = 'YOUR_PASSWORD'            \n",
    "\n",
    "\n",
    "def send_email(empfänger_email, thema, body):\n",
    "    message = 'Subject: {}\\n\\n{}'.format(thema, body)\n",
    "    with smtplib.SMTP_SSL('smtp.gmail.com', 465) as server:                     ###   class smtplib.SMTP_SSL(host='', port=0( the standard SMTP-over-SSL port (465) is used.), local_hostname=None, keyfile=None, certfile=None, [timeout, ]context=None, source_address=None)\n",
    "        server.login(ABSENDER_EMAIL, ABSENDER_PASSWORD)\n",
    "        server.sendmail(ABSENDER_EMAIL, empfänger_email, message)\n",
    "\n",
    "\n",
    "\n",
    "send_email('EMPFÄNGER@EMAIL.COM', 'UBER WEIHNACHTEN', 'FROHE WEIHNACHTEN!')"
   ]
  },
  {
   "cell_type": "markdown",
   "metadata": {},
   "source": [
    "simulated Würfel (Dice)\n",
    "\n",
    "\n",
    "\n",
    "\"\"\"\n",
    "(class) Counter\n",
    "\n",
    "Dict subclass for counting hashable items. Sometimes called a bag or multiset. Elements are stored as dictionary keys and their counts are stored as dictionary values.\n",
    "\n",
    "\n",
    "c = Counter('abcdeabcdabcaba')  # count elements from a string\n",
    "\n",
    "c.most_common(3)                # three most common elements\n",
    "\n",
    "[('a', 5), ('b', 4), ('c', 3)]\n",
    "\n",
    "sorted(c)                       # list all unique elements\n",
    "\n",
    "['a', 'b', 'c', 'd', 'e']\n",
    "\n",
    "''.join(sorted(c.elements()))   # list elements with repetitions\n",
    "\n",
    "'aaaaabbbbcccdde'\n",
    "\n",
    "sum(c.values())                 # total of all counts\n",
    "\n",
    "15\n",
    "\n",
    "c['a']                          # count of letter 'a'\n",
    "\n",
    "5"
   ]
  },
  {
   "cell_type": "code",
   "execution_count": 68,
   "metadata": {},
   "outputs": [
    {
     "name": "stdout",
     "output_type": "stream",
     "text": [
      "\n",
      "OUTCOME\tPROBABILITY\n",
      "3\t0.71%\n",
      "4\t2.10%\n",
      "5\t4.18%\n",
      "6\t6.91%\n",
      "7\t9.73%\n",
      "8\t12.51%\n",
      "9\t13.86%\n",
      "10\t13.87%\n",
      "11\t12.51%\n",
      "12\t9.71%\n",
      "13\t6.98%\n",
      "14\t4.17%\n",
      "15\t2.08%\n",
      "16\t0.69%\n",
      "\n",
      "OUTCOME\tPROBABILITY\n",
      "4\t0.04%\n",
      "5\t0.14%\n",
      "6\t0.35%\n",
      "7\t0.70%\n",
      "8\t1.18%\n",
      "9\t1.82%\n",
      "10\t2.51%\n",
      "11\t3.18%\n",
      "12\t3.81%\n",
      "13\t4.30%\n",
      "14\t4.63%\n",
      "15\t4.87%\n",
      "16\t4.97%\n",
      "17\t4.95%\n",
      "18\t5.02%\n",
      "19\t4.97%\n",
      "20\t5.01%\n",
      "21\t5.02%\n",
      "22\t4.97%\n",
      "23\t5.00%\n",
      "24\t5.01%\n",
      "25\t4.90%\n",
      "26\t4.64%\n",
      "27\t4.31%\n",
      "28\t3.82%\n",
      "29\t3.21%\n",
      "30\t2.50%\n",
      "31\t1.81%\n",
      "32\t1.17%\n",
      "33\t0.69%\n",
      "34\t0.35%\n",
      "35\t0.14%\n",
      "36\t0.03%\n"
     ]
    }
   ],
   "source": [
    "from random import randint\n",
    "from collections import Counter\n",
    "\n",
    "def roll_dice(*dice, num_trials=1_000_000):  \n",
    "    counts = Counter()\n",
    "\n",
    "    for roll in range(num_trials):\n",
    "        counts[sum((randint(1,sides) for sides in dice))] += 1              ### zarlari rastgele atiyor \n",
    "    \n",
    "    print('\\nOUTCOME\\tPROBABILITY')\n",
    "    for outcome in range(len(dice), sum(dice)+1):\n",
    "        print('{}\\t{:0.2f}%'.format(outcome, counts[outcome]*100/num_trials))\n",
    "        \n",
    "\n",
    "roll_dice(4,6,6)\n",
    "roll_dice(4,6,6,20)"
   ]
  },
  {
   "cell_type": "markdown",
   "metadata": {},
   "source": [
    "count unique wörter\n"
   ]
  },
  {
   "cell_type": "code",
   "execution_count": 78,
   "metadata": {},
   "outputs": [
    {
     "name": "stdout",
     "output_type": "stream",
     "text": [
      "\n",
      "Total Words: 968841\n",
      "\n",
      "Top 20 Words:\n",
      "THE \t 30062\n",
      "AND \t 28379\n",
      "I \t 22307\n",
      "TO \t 20926\n",
      "OF \t 18813\n",
      "A \t 15950\n",
      "YOU \t 14461\n",
      "MY \t 13173\n",
      "IN \t 12122\n",
      "THAT \t 11924\n",
      "IS \t 9779\n",
      "NOT \t 9053\n",
      "WITH \t 8516\n",
      "ME \t 8242\n",
      "FOR \t 8207\n",
      "IT \t 8177\n",
      "HIS \t 7567\n",
      "BE \t 7355\n",
      "THIS \t 7166\n",
      "YOUR \t 7072\n"
     ]
    }
   ],
   "source": [
    "import re\n",
    "from collections import Counter\n",
    "\n",
    "def count_words(path):\n",
    "    with open(path, encoding='utf-8') as file:\n",
    "        all_words = re.findall(r\"[0-9a-zA-Z-']+\", file.read())          #''' kelimeleri tek tek ayirdi'''     \n",
    "        all_words = [word.upper() for word in all_words]                # hepsi buyuk harf yapildi\n",
    "        print('\\nTotal Words:', len(all_words))                          # top kelime sayisi bulundu\n",
    "        \n",
    "        word_counts = Counter()\n",
    "        for word in all_words:                                          # her kelimeden kac kere gectigi counter ile saydirildi bu bir kutuphane fonksiyonu    counteer bir dictionary gibi verileri tutuyor\n",
    "            word_counts[word] += 1\n",
    "        \n",
    "        print('\\nTop 20 Words:')\n",
    "        for word in word_counts.most_common(20):                    # most common fonksiyonu en cok olan ilk 20 yi bulduruyor\n",
    "            print(word[0], '\\t', word[1])\n",
    "            \n",
    "\n",
    "count_words('shakespeare.txt')"
   ]
  },
  {
   "cell_type": "markdown",
   "metadata": {},
   "source": [
    "generate a password \n"
   ]
  },
  {
   "cell_type": "markdown",
   "metadata": {},
   "source": [
    "RANDOM() The pseudo-random generators of this module should not be used for security purposes. For security or cryptographic uses, see the secrets module.\n",
    "\n",
    "SECRET() MODULE The secrets module is used for generating cryptographically strong random numbers suitable for managing data such as passwords, account authentication, security tokens, and related secrets.\n",
    "\n",
    "This section shows recipes and best practices for using secrets to manage a basic level of security.\n",
    "\n",
    "Generate an eight-character alphanumeric password:\n",
    "\n",
    "\n",
    "\n",
    "import string\n",
    "\n",
    "import secrets\n",
    "\n",
    "alphabet = string.ascii_letters + string.digits\n",
    "\n",
    "password = ''.join(secrets.choice(alphabet) for i in range(8))\n"
   ]
  },
  {
   "cell_type": "code",
   "execution_count": 80,
   "metadata": {},
   "outputs": [
    {
     "name": "stdout",
     "output_type": "stream",
     "text": [
      "shell 21 gap trunk mob cv 300\n",
      "miami idle cutlet teen crust mat five\n"
     ]
    }
   ],
   "source": [
    "import secrets\n",
    "\n",
    "def generate_passphrase(num_words):\n",
    "    with open('diceware.wordlist.asc', 'r') as file:                                            # herhangi bir dosya icinden sifre olussturma\n",
    "        lines = file.readlines()[2:7778]\n",
    "        word_list = [line.split()[1] for line in lines]\n",
    "\n",
    "    return ' '.join(secrets.choice(word_list) for i in range(num_words))                ### secret.choice icine koydugumuz arguman icinden rastgele sweciyor \n",
    "\n",
    "\n",
    "\n",
    "\n",
    "\n",
    "print(generate_passphrase(7))\n",
    "print(generate_passphrase(7))"
   ]
  },
  {
   "cell_type": "code",
   "execution_count": 92,
   "metadata": {},
   "outputs": [
    {
     "data": {
      "text/plain": [
       "'88QB48PB'"
      ]
     },
     "execution_count": 92,
     "metadata": {},
     "output_type": "execute_result"
    }
   ],
   "source": [
    "import string\n",
    "import secrets\n",
    "\n",
    "password = ''.join(secrets.choice(string.ascii_letters) for i in range(4)) + ''.join(secrets.choice(string.digits) for i in range(4))           ## secret.choice(string.digits) string in digit fonksiyonu rasgele sayi veriyot´r\n",
    "''.join(secrets.choice(password)for i in range(8))"
   ]
  },
  {
   "cell_type": "markdown",
   "metadata": {},
   "source": [
    "MERGE CSV FILE"
   ]
  },
  {
   "cell_type": "markdown",
   "metadata": {},
   "source": [
    "Merge CSV file\n",
    "\n",
    "input:\n",
    "list of input files,\n",
    "output file path\n",
    "\n",
    "beispiel:\n",
    "merge_csv( [ 'class1.csv', 'class2.csv' ], ' all_students.csv' )\n",
    "\n",
    "name,midterm,final    ---------------------------                  name,midterm,lab,final                  -----------------------------------------------------------------------------                            name, midterm,lab,final       \n",
    "         \n",
    "class1 = tony,61,51  ------------------------------  \t                   class2= aliya 43,65,54          -----------------        =================>>>>   --------------------------              all_students= tony,61,,51\n",
    "\n",
    "        nick,98,91                          mete 89,99,55              =================>>>>                         nick,98,,91\n",
    "\n",
    "                                                                                                                     aliya 43,65,54   \n",
    "\n",
    "                                                                                                                     mete 89,99,55     \n",
    "                                                                                                                     \n"
   ]
  },
  {
   "cell_type": "code",
   "execution_count": 96,
   "metadata": {},
   "outputs": [],
   "source": [
    "import csv\n",
    "\n",
    "def merge_csv(csv_list, output_path):\n",
    "\n",
    "    fieldnames = list()                                                                     ## burda ikisini ortak isim tablosunu olusturduk\n",
    "    for file in csv_list:\n",
    "        with open(file, 'r') as input_csv:\n",
    "            fn = csv.DictReader(input_csv).fieldnames\n",
    "            fieldnames.extend(x for x in fn if x not in fieldnames)\n",
    "    \n",
    "    with open(output_path, 'w', newline='') as output_csv:                                          # burda yeni doasyaya adlari altina verileri yaziyoruzt\n",
    "        writer = csv.DictWriter(output_csv, fieldnames=fieldnames)\n",
    "        writer.writeheader()\n",
    "        for file in csv_list:\n",
    "            with open(file, 'r') as input_csv:\n",
    "                reader = csv.DictReader(input_csv)\n",
    "                for row in reader:\n",
    "                    writer.writerow(row)\n",
    "        \n",
    "merge_csv(['class1.csv', 'class2.csv'], 'all_students.csv')\n"
   ]
  },
  {
   "cell_type": "markdown",
   "metadata": {},
   "source": [
    "solve a SUDOKU"
   ]
  },
  {
   "cell_type": "code",
   "execution_count": 101,
   "metadata": {},
   "outputs": [
    {
     "name": "stdout",
     "output_type": "stream",
     "text": [
      "\n",
      " 5  3  *  |  *  7  *  |  *  *  * \n",
      " 6  *  *  |  1  9  5  |  *  *  * \n",
      " *  9  8  |  *  *  *  |  *  6  * \n",
      "---------------------------------\n",
      " 8  *  *  |  *  6  *  |  *  *  3 \n",
      " 4  *  *  |  8  *  3  |  *  *  1 \n",
      " 7  *  *  |  *  2  *  |  *  *  6 \n",
      "---------------------------------\n",
      " *  6  *  |  *  *  *  |  2  8  * \n",
      " *  *  *  |  4  1  9  |  *  *  5 \n",
      " *  *  *  |  *  8  *  |  *  7  9 \n",
      "\n",
      "\n",
      " 5  3  4  |  6  7  8  |  9  1  2 \n",
      " 6  7  2  |  1  9  5  |  3  4  8 \n",
      " 1  9  8  |  3  4  2  |  5  6  7 \n",
      "---------------------------------\n",
      " 8  5  9  |  7  6  1  |  4  2  3 \n",
      " 4  2  6  |  8  5  3  |  7  9  1 \n",
      " 7  1  3  |  9  2  4  |  8  5  6 \n",
      "---------------------------------\n",
      " 9  6  1  |  5  3  7  |  2  8  4 \n",
      " 2  8  7  |  4  1  9  |  6  3  5 \n",
      " 3  4  5  |  2  8  6  |  1  7  9 \n",
      "\n"
     ]
    }
   ],
   "source": [
    "from itertools import product\n",
    "\n",
    "def solve_sudoku(puzzle):\n",
    "    for (row, col) in product(range(0,9), repeat=2):\n",
    "        if puzzle[row][col] == 0: # burada boslari buluyoruz\n",
    "            for num in range(1,10):\n",
    "                allowed = True #  row/col/box sayinin olup olmadigi kontrolü\n",
    "                for i in range(0,9):\n",
    "                    if (puzzle[i][col ] == num) or (puzzle[row][i] == num):\n",
    "                        allowed = False; break #  row or col yoksa\n",
    "                for (i, j) in product(range(0,3), repeat=2):\n",
    "                    if puzzle[row-row%3+i][col-col%3+j] == num:\n",
    "                        allowed = False; break # box yoksa \n",
    "                if allowed:       \n",
    "                    puzzle[row][col] = num\n",
    "                    if trial := solve_sudoku(puzzle):\n",
    "                        return trial\n",
    "                    else:\n",
    "                        puzzle[row][col] = 0\n",
    "            return False #   number in this cell olmuyorsa\n",
    "    return puzzle\n",
    "\n",
    "def print_sudoku(puzzle):\n",
    "    # tekrarlama\n",
    "    puzzle = [['*' if num == 0 else num for num in row] for row in puzzle]\n",
    "    print()\n",
    "    for row in range(0,9):\n",
    "        if ((row % 3 == 0) and (row != 0)):\n",
    "            print('-'*33) # dikeyde yazdir\n",
    "        for col in range(0,9):\n",
    "            if ((col % 3 == 0) and (col != 0)):\n",
    "                print(' | ', end='') # yatayda yazdir\n",
    "            print('', puzzle[row][col], '', end='')\n",
    "        print()\n",
    "    print()\n",
    "\n",
    "puzzle = [[5,3,0,0,7,0,0,0,0],\n",
    "          [6,0,0,1,9,5,0,0,0],\n",
    "          [0,9,8,0,0,0,0,6,0],\n",
    "          [8,0,0,0,6,0,0,0,3],\n",
    "          [4,0,0,8,0,3,0,0,1],\n",
    "          [7,0,0,0,2,0,0,0,6],\n",
    "          [0,6,0,0,0,0,2,8,0],\n",
    "          [0,0,0,4,1,9,0,0,5],\n",
    "          [0,0,0,0,8,0,0,7,9]]\n",
    "print_sudoku(puzzle)\n",
    "solution = solve_sudoku(puzzle)\n",
    "print_sudoku(solution)"
   ]
  },
  {
   "cell_type": "code",
   "execution_count": null,
   "metadata": {},
   "outputs": [],
   "source": []
  }
 ],
 "metadata": {
  "interpreter": {
   "hash": "a568b988ef59356f541e1651d71651afaaa30954598b2be60c6c7b4eea9fbfac"
  },
  "kernelspec": {
   "display_name": "Python 3.10.0 64-bit",
   "language": "python",
   "name": "python3"
  },
  "language_info": {
   "codemirror_mode": {
    "name": "ipython",
    "version": 3
   },
   "file_extension": ".py",
   "mimetype": "text/x-python",
   "name": "python",
   "nbconvert_exporter": "python",
   "pygments_lexer": "ipython3",
   "version": "3.10.0"
  },
  "orig_nbformat": 4
 },
 "nbformat": 4,
 "nbformat_minor": 2
}
